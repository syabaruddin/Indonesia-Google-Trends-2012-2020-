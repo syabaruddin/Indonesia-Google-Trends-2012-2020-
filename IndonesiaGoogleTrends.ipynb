{
 "cells": [
  {
   "cell_type": "markdown",
   "metadata": {
    "ExecuteTime": {
     "end_time": "2021-03-08T09:35:35.853634Z",
     "start_time": "2021-03-08T09:35:35.503690Z"
    }
   },
   "source": [
    "# Google Trends in Indonesia (2012-2020) "
   ]
  },
  {
   "cell_type": "markdown",
   "metadata": {},
   "source": [
    "This is a curated dataset of Google Trends over the years. Every year, Google releases the trending search queries all over the world in various categories.It has trends from 2001 to 2020\n"
   ]
  },
  {
   "cell_type": "code",
   "execution_count": 101,
   "metadata": {
    "ExecuteTime": {
     "end_time": "2021-03-08T10:50:53.642516Z",
     "start_time": "2021-03-08T10:50:53.577923Z"
    }
   },
   "outputs": [
    {
     "data": {
      "text/html": [
       "<div>\n",
       "<style scoped>\n",
       "    .dataframe tbody tr th:only-of-type {\n",
       "        vertical-align: middle;\n",
       "    }\n",
       "\n",
       "    .dataframe tbody tr th {\n",
       "        vertical-align: top;\n",
       "    }\n",
       "\n",
       "    .dataframe thead th {\n",
       "        text-align: right;\n",
       "    }\n",
       "</style>\n",
       "<table border=\"1\" class=\"dataframe\">\n",
       "  <thead>\n",
       "    <tr style=\"text-align: right;\">\n",
       "      <th></th>\n",
       "      <th>location</th>\n",
       "      <th>year</th>\n",
       "      <th>category</th>\n",
       "      <th>rank</th>\n",
       "      <th>query</th>\n",
       "    </tr>\n",
       "  </thead>\n",
       "  <tbody>\n",
       "    <tr>\n",
       "      <th>0</th>\n",
       "      <td>Global</td>\n",
       "      <td>2001</td>\n",
       "      <td>Consumer Brands</td>\n",
       "      <td>1</td>\n",
       "      <td>Nokia</td>\n",
       "    </tr>\n",
       "    <tr>\n",
       "      <th>1</th>\n",
       "      <td>Global</td>\n",
       "      <td>2001</td>\n",
       "      <td>Consumer Brands</td>\n",
       "      <td>2</td>\n",
       "      <td>Sony</td>\n",
       "    </tr>\n",
       "    <tr>\n",
       "      <th>2</th>\n",
       "      <td>Global</td>\n",
       "      <td>2001</td>\n",
       "      <td>Consumer Brands</td>\n",
       "      <td>3</td>\n",
       "      <td>BMW</td>\n",
       "    </tr>\n",
       "    <tr>\n",
       "      <th>3</th>\n",
       "      <td>Global</td>\n",
       "      <td>2001</td>\n",
       "      <td>Consumer Brands</td>\n",
       "      <td>4</td>\n",
       "      <td>Palm</td>\n",
       "    </tr>\n",
       "    <tr>\n",
       "      <th>4</th>\n",
       "      <td>Global</td>\n",
       "      <td>2001</td>\n",
       "      <td>Consumer Brands</td>\n",
       "      <td>5</td>\n",
       "      <td>Adobe</td>\n",
       "    </tr>\n",
       "  </tbody>\n",
       "</table>\n",
       "</div>"
      ],
      "text/plain": [
       "  location  year         category  rank  query\n",
       "0   Global  2001  Consumer Brands     1  Nokia\n",
       "1   Global  2001  Consumer Brands     2   Sony\n",
       "2   Global  2001  Consumer Brands     3    BMW\n",
       "3   Global  2001  Consumer Brands     4   Palm\n",
       "4   Global  2001  Consumer Brands     5  Adobe"
      ]
     },
     "execution_count": 101,
     "metadata": {},
     "output_type": "execute_result"
    }
   ],
   "source": [
    "# Data sourced from https://www.kaggle.com/dhruvildave/google-trends-dataset\n",
    "\n",
    "import pandas as pd \n",
    "import matplotlib as plt\n",
    "\n",
    "googletrends = pd.read_csv('C:/SyabaruddinFolder/Work/DATA/GoogleTrendsAnalysis/archive/trends.csv')\n",
    "googletrends.head()"
   ]
  },
  {
   "cell_type": "code",
   "execution_count": 102,
   "metadata": {
    "ExecuteTime": {
     "end_time": "2021-03-08T10:50:53.658472Z",
     "start_time": "2021-03-08T10:50:53.644510Z"
    }
   },
   "outputs": [
    {
     "data": {
      "text/plain": [
       "(26955, 5)"
      ]
     },
     "execution_count": 102,
     "metadata": {},
     "output_type": "execute_result"
    }
   ],
   "source": [
    "# Dimension of the dataframe\n",
    "googletrends.shape"
   ]
  },
  {
   "cell_type": "code",
   "execution_count": 103,
   "metadata": {
    "ExecuteTime": {
     "end_time": "2021-03-08T10:50:53.674430Z",
     "start_time": "2021-03-08T10:50:53.661467Z"
    }
   },
   "outputs": [
    {
     "data": {
      "text/plain": [
       "United States         2070\n",
       "Global                1135\n",
       "Japan                  765\n",
       "Canada                 690\n",
       "Brazil                 675\n",
       "                      ... \n",
       "Kuwait                   5\n",
       "Honduras                 5\n",
       "Dominican Republic       5\n",
       "El Salvador              5\n",
       "Sudan                    5\n",
       "Name: location, Length: 83, dtype: int64"
      ]
     },
     "execution_count": 103,
     "metadata": {},
     "output_type": "execute_result"
    }
   ],
   "source": [
    "#Unique values from 'location column'. It shows where are the locations in every trends.\n",
    "\n",
    "googletrends['location'].value_counts()"
   ]
  },
  {
   "cell_type": "code",
   "execution_count": 104,
   "metadata": {
    "ExecuteTime": {
     "end_time": "2021-03-08T10:50:53.690388Z",
     "start_time": "2021-03-08T10:50:53.677422Z"
    }
   },
   "outputs": [
    {
     "data": {
      "text/plain": [
       "2016    3040\n",
       "2020    2980\n",
       "2013    2890\n",
       "2015    2790\n",
       "2017    2610\n",
       "2019    2605\n",
       "2018    2560\n",
       "2014    2320\n",
       "2012    2225\n",
       "2008     895\n",
       "2011     890\n",
       "2009     445\n",
       "2003     155\n",
       "2004     145\n",
       "2002     110\n",
       "2010      90\n",
       "2006      75\n",
       "2001      60\n",
       "2007      60\n",
       "2005      10\n",
       "Name: year, dtype: int64"
      ]
     },
     "execution_count": 104,
     "metadata": {},
     "output_type": "execute_result"
    }
   ],
   "source": [
    "#Unique values from 'year' column. It shows in what year that the trends occured\n",
    "\n",
    "googletrends['year'].value_counts()"
   ]
  },
  {
   "cell_type": "code",
   "execution_count": 105,
   "metadata": {
    "ExecuteTime": {
     "end_time": "2021-03-08T10:50:53.722330Z",
     "start_time": "2021-03-08T10:50:53.692383Z"
    }
   },
   "outputs": [
    {
     "data": {
      "text/plain": [
       "Paul Walker        84\n",
       "Donald Trump       83\n",
       "Facebook           62\n",
       "Robin Williams     61\n",
       "Whitney Houston    56\n",
       "                   ..\n",
       "Poodle              1\n",
       "豪雨                  1\n",
       "中国                  1\n",
       "How old net         1\n",
       "Vild Med Dans       1\n",
       "Name: query, Length: 18431, dtype: int64"
      ]
     },
     "execution_count": 105,
     "metadata": {},
     "output_type": "execute_result"
    }
   ],
   "source": [
    "#Unique values from 'year' column. It shows the terms that the trends in google form 2001 to 2021\n",
    "\n",
    "googletrends['query'].value_counts()"
   ]
  },
  {
   "cell_type": "code",
   "execution_count": 106,
   "metadata": {
    "ExecuteTime": {
     "end_time": "2021-03-08T10:50:53.754260Z",
     "start_time": "2021-03-08T10:50:53.724296Z"
    }
   },
   "outputs": [
    {
     "data": {
      "text/html": [
       "<div>\n",
       "<style scoped>\n",
       "    .dataframe tbody tr th:only-of-type {\n",
       "        vertical-align: middle;\n",
       "    }\n",
       "\n",
       "    .dataframe tbody tr th {\n",
       "        vertical-align: top;\n",
       "    }\n",
       "\n",
       "    .dataframe thead th {\n",
       "        text-align: right;\n",
       "    }\n",
       "</style>\n",
       "<table border=\"1\" class=\"dataframe\">\n",
       "  <thead>\n",
       "    <tr style=\"text-align: right;\">\n",
       "      <th></th>\n",
       "      <th>year</th>\n",
       "      <th>category</th>\n",
       "      <th>rank</th>\n",
       "      <th>query</th>\n",
       "    </tr>\n",
       "  </thead>\n",
       "  <tbody>\n",
       "    <tr>\n",
       "      <th>3685</th>\n",
       "      <td>2012</td>\n",
       "      <td>Car Models</td>\n",
       "      <td>1</td>\n",
       "      <td>Toyota Agya</td>\n",
       "    </tr>\n",
       "    <tr>\n",
       "      <th>3686</th>\n",
       "      <td>2012</td>\n",
       "      <td>Car Models</td>\n",
       "      <td>2</td>\n",
       "      <td>Honda Brio</td>\n",
       "    </tr>\n",
       "    <tr>\n",
       "      <th>3687</th>\n",
       "      <td>2012</td>\n",
       "      <td>Car Models</td>\n",
       "      <td>3</td>\n",
       "      <td>Suzuki Ertiga</td>\n",
       "    </tr>\n",
       "    <tr>\n",
       "      <th>3688</th>\n",
       "      <td>2012</td>\n",
       "      <td>Car Models</td>\n",
       "      <td>4</td>\n",
       "      <td>Mobil Esemka</td>\n",
       "    </tr>\n",
       "    <tr>\n",
       "      <th>3689</th>\n",
       "      <td>2012</td>\n",
       "      <td>Car Models</td>\n",
       "      <td>5</td>\n",
       "      <td>Nissan Evalia</td>\n",
       "    </tr>\n",
       "    <tr>\n",
       "      <th>...</th>\n",
       "      <td>...</td>\n",
       "      <td>...</td>\n",
       "      <td>...</td>\n",
       "      <td>...</td>\n",
       "    </tr>\n",
       "    <tr>\n",
       "      <th>25160</th>\n",
       "      <td>2020</td>\n",
       "      <td>Siapa...</td>\n",
       "      <td>1</td>\n",
       "      <td>Bintang Emon</td>\n",
       "    </tr>\n",
       "    <tr>\n",
       "      <th>25161</th>\n",
       "      <td>2020</td>\n",
       "      <td>Siapa...</td>\n",
       "      <td>2</td>\n",
       "      <td>Hyun Bin</td>\n",
       "    </tr>\n",
       "    <tr>\n",
       "      <th>25162</th>\n",
       "      <td>2020</td>\n",
       "      <td>Siapa...</td>\n",
       "      <td>3</td>\n",
       "      <td>Kim Soo Hyun</td>\n",
       "    </tr>\n",
       "    <tr>\n",
       "      <th>25163</th>\n",
       "      <td>2020</td>\n",
       "      <td>Siapa...</td>\n",
       "      <td>4</td>\n",
       "      <td>Najwa Shihab</td>\n",
       "    </tr>\n",
       "    <tr>\n",
       "      <th>25164</th>\n",
       "      <td>2020</td>\n",
       "      <td>Siapa...</td>\n",
       "      <td>5</td>\n",
       "      <td>George Floyd</td>\n",
       "    </tr>\n",
       "  </tbody>\n",
       "</table>\n",
       "<p>415 rows × 4 columns</p>\n",
       "</div>"
      ],
      "text/plain": [
       "       year    category  rank          query\n",
       "3685   2012  Car Models     1    Toyota Agya\n",
       "3686   2012  Car Models     2     Honda Brio\n",
       "3687   2012  Car Models     3  Suzuki Ertiga\n",
       "3688   2012  Car Models     4   Mobil Esemka\n",
       "3689   2012  Car Models     5  Nissan Evalia\n",
       "...     ...         ...   ...            ...\n",
       "25160  2020    Siapa...     1   Bintang Emon\n",
       "25161  2020    Siapa...     2       Hyun Bin\n",
       "25162  2020    Siapa...     3   Kim Soo Hyun\n",
       "25163  2020    Siapa...     4   Najwa Shihab\n",
       "25164  2020    Siapa...     5   George Floyd\n",
       "\n",
       "[415 rows x 4 columns]"
      ]
     },
     "execution_count": 106,
     "metadata": {},
     "output_type": "execute_result"
    }
   ],
   "source": [
    "#We subset the location to Indonesia. This is to check what trends in Indonesia in Google search during 2001-2020 \n",
    "\n",
    "indonesia = googletrends[googletrends['location']=='Indonesia']\n",
    "indonesia = indonesia.loc[:,['year','category','rank','query']]\n",
    "indonesia"
   ]
  },
  {
   "cell_type": "code",
   "execution_count": 107,
   "metadata": {
    "ExecuteTime": {
     "end_time": "2021-03-08T10:50:53.770218Z",
     "start_time": "2021-03-08T10:50:53.756255Z"
    }
   },
   "outputs": [
    {
     "data": {
      "text/plain": [
       "array([2012, 2013, 2014, 2015, 2016, 2017, 2018, 2019, 2020], dtype=int64)"
      ]
     },
     "execution_count": 107,
     "metadata": {},
     "output_type": "execute_result"
    }
   ],
   "source": [
    "#data recorded Indonesia only from 2012-2020\n",
    "indonesia['year'].unique()"
   ]
  },
  {
   "cell_type": "markdown",
   "metadata": {},
   "source": [
    "## Indonesia Top 10 terms in 2012-2020 "
   ]
  },
  {
   "cell_type": "code",
   "execution_count": 108,
   "metadata": {
    "ExecuteTime": {
     "end_time": "2021-03-08T10:50:53.786176Z",
     "start_time": "2021-03-08T10:50:53.772212Z"
    }
   },
   "outputs": [
    {
     "data": {
      "text/plain": [
       "Jokowi                 4\n",
       "Paul Walker            3\n",
       "Honda Brio             3\n",
       "Pisang Nugget          2\n",
       "Setya Novanto          2\n",
       "Kartu Pra Kerja        2\n",
       "Bucin                  2\n",
       "Rohingya               2\n",
       "Sakitnya Tuh Disini    2\n",
       "Batu Akik              2\n",
       "Name: query, dtype: int64"
      ]
     },
     "execution_count": 108,
     "metadata": {},
     "output_type": "execute_result"
    }
   ],
   "source": [
    "indonesiatop10 = indonesia['query'].value_counts().head(10)\n",
    "indonesiatop10"
   ]
  },
  {
   "cell_type": "markdown",
   "metadata": {},
   "source": [
    "**wow, Our President, Pak 'Jokowi' is the most trending term in 2001-2020!**"
   ]
  },
  {
   "cell_type": "code",
   "execution_count": 109,
   "metadata": {
    "ExecuteTime": {
     "end_time": "2021-03-08T10:50:53.802132Z",
     "start_time": "2021-03-08T10:50:53.789166Z"
    }
   },
   "outputs": [
    {
     "data": {
      "text/html": [
       "<div>\n",
       "<style scoped>\n",
       "    .dataframe tbody tr th:only-of-type {\n",
       "        vertical-align: middle;\n",
       "    }\n",
       "\n",
       "    .dataframe tbody tr th {\n",
       "        vertical-align: top;\n",
       "    }\n",
       "\n",
       "    .dataframe thead th {\n",
       "        text-align: right;\n",
       "    }\n",
       "</style>\n",
       "<table border=\"1\" class=\"dataframe\">\n",
       "  <thead>\n",
       "    <tr style=\"text-align: right;\">\n",
       "      <th></th>\n",
       "      <th>query</th>\n",
       "      <th>category</th>\n",
       "    </tr>\n",
       "    <tr>\n",
       "      <th>year</th>\n",
       "      <th></th>\n",
       "      <th></th>\n",
       "    </tr>\n",
       "  </thead>\n",
       "  <tbody>\n",
       "    <tr>\n",
       "      <th>2012</th>\n",
       "      <td>Jokowi</td>\n",
       "      <td>People (Indonesian)</td>\n",
       "    </tr>\n",
       "    <tr>\n",
       "      <th>2012</th>\n",
       "      <td>Jokowi</td>\n",
       "      <td>Searches</td>\n",
       "    </tr>\n",
       "    <tr>\n",
       "      <th>2014</th>\n",
       "      <td>Jokowi</td>\n",
       "      <td>Penelusuran</td>\n",
       "    </tr>\n",
       "    <tr>\n",
       "      <th>2017</th>\n",
       "      <td>Jokowi</td>\n",
       "      <td>Tokoh</td>\n",
       "    </tr>\n",
       "  </tbody>\n",
       "</table>\n",
       "</div>"
      ],
      "text/plain": [
       "       query             category\n",
       "year                             \n",
       "2012  Jokowi  People (Indonesian)\n",
       "2012  Jokowi             Searches\n",
       "2014  Jokowi          Penelusuran\n",
       "2017  Jokowi                Tokoh"
      ]
     },
     "execution_count": 109,
     "metadata": {},
     "output_type": "execute_result"
    }
   ],
   "source": [
    "indonesiajokowi = indonesia.loc[:,['year','query','category']].set_index('year')\n",
    "indonesiajokowi = indonesiajokowi[indonesiajokowi['query']=='Jokowi']\n",
    "indonesiajokowi"
   ]
  },
  {
   "cell_type": "markdown",
   "metadata": {
    "ExecuteTime": {
     "end_time": "2021-03-08T10:37:49.430388Z",
     "start_time": "2021-03-08T10:37:49.414765Z"
    }
   },
   "source": [
    "**So, Our President 'Jokowi' was trending in 2012, 2014, and 2017!**"
   ]
  },
  {
   "cell_type": "markdown",
   "metadata": {},
   "source": [
    "### Indonesia Top Google Trends every year from 2012-2020\n",
    "\n",
    "**Below are Top Google trends on each category every year from 2012-2020**"
   ]
  },
  {
   "cell_type": "markdown",
   "metadata": {},
   "source": [
    "#### Year 2012"
   ]
  },
  {
   "cell_type": "code",
   "execution_count": 110,
   "metadata": {
    "ExecuteTime": {
     "end_time": "2021-03-08T10:50:53.834048Z",
     "start_time": "2021-03-08T10:50:53.805123Z"
    }
   },
   "outputs": [
    {
     "data": {
      "text/html": [
       "<div>\n",
       "<style scoped>\n",
       "    .dataframe tbody tr th:only-of-type {\n",
       "        vertical-align: middle;\n",
       "    }\n",
       "\n",
       "    .dataframe tbody tr th {\n",
       "        vertical-align: top;\n",
       "    }\n",
       "\n",
       "    .dataframe thead th {\n",
       "        text-align: right;\n",
       "    }\n",
       "</style>\n",
       "<table border=\"1\" class=\"dataframe\">\n",
       "  <thead>\n",
       "    <tr style=\"text-align: right;\">\n",
       "      <th></th>\n",
       "      <th>category</th>\n",
       "      <th>rank</th>\n",
       "      <th>query</th>\n",
       "    </tr>\n",
       "    <tr>\n",
       "      <th>year</th>\n",
       "      <th></th>\n",
       "      <th></th>\n",
       "      <th></th>\n",
       "    </tr>\n",
       "  </thead>\n",
       "  <tbody>\n",
       "    <tr>\n",
       "      <th>2012</th>\n",
       "      <td>Car Models</td>\n",
       "      <td>1</td>\n",
       "      <td>Toyota Agya</td>\n",
       "    </tr>\n",
       "    <tr>\n",
       "      <th>2012</th>\n",
       "      <td>Games</td>\n",
       "      <td>1</td>\n",
       "      <td>Angry Birds</td>\n",
       "    </tr>\n",
       "    <tr>\n",
       "      <th>2012</th>\n",
       "      <td>Indonesian Songs</td>\n",
       "      <td>1</td>\n",
       "      <td>Separuh Aku (Noah)</td>\n",
       "    </tr>\n",
       "    <tr>\n",
       "      <th>2012</th>\n",
       "      <td>Musicians</td>\n",
       "      <td>1</td>\n",
       "      <td>Noah</td>\n",
       "    </tr>\n",
       "    <tr>\n",
       "      <th>2012</th>\n",
       "      <td>People (Global)</td>\n",
       "      <td>1</td>\n",
       "      <td>Whitney Houston</td>\n",
       "    </tr>\n",
       "    <tr>\n",
       "      <th>2012</th>\n",
       "      <td>People (Indonesian)</td>\n",
       "      <td>1</td>\n",
       "      <td>Jokowi</td>\n",
       "    </tr>\n",
       "    <tr>\n",
       "      <th>2012</th>\n",
       "      <td>Searches</td>\n",
       "      <td>1</td>\n",
       "      <td>Gangnam Style</td>\n",
       "    </tr>\n",
       "  </tbody>\n",
       "</table>\n",
       "</div>"
      ],
      "text/plain": [
       "                 category  rank               query\n",
       "year                                               \n",
       "2012           Car Models     1         Toyota Agya\n",
       "2012                Games     1         Angry Birds\n",
       "2012     Indonesian Songs     1  Separuh Aku (Noah)\n",
       "2012            Musicians     1                Noah\n",
       "2012      People (Global)     1     Whitney Houston\n",
       "2012  People (Indonesian)     1              Jokowi\n",
       "2012             Searches     1       Gangnam Style"
      ]
     },
     "execution_count": 110,
     "metadata": {},
     "output_type": "execute_result"
    }
   ],
   "source": [
    "year2012 = indonesia[indonesia['year']==2012].set_index('year')\n",
    "year2012 = year2012[year2012['rank']==1]\n",
    "year2012\n"
   ]
  },
  {
   "cell_type": "markdown",
   "metadata": {},
   "source": [
    "#### Year 2013"
   ]
  },
  {
   "cell_type": "code",
   "execution_count": 111,
   "metadata": {
    "ExecuteTime": {
     "end_time": "2021-03-08T10:50:53.850005Z",
     "start_time": "2021-03-08T10:50:53.836042Z"
    }
   },
   "outputs": [
    {
     "data": {
      "text/html": [
       "<div>\n",
       "<style scoped>\n",
       "    .dataframe tbody tr th:only-of-type {\n",
       "        vertical-align: middle;\n",
       "    }\n",
       "\n",
       "    .dataframe tbody tr th {\n",
       "        vertical-align: top;\n",
       "    }\n",
       "\n",
       "    .dataframe thead th {\n",
       "        text-align: right;\n",
       "    }\n",
       "</style>\n",
       "<table border=\"1\" class=\"dataframe\">\n",
       "  <thead>\n",
       "    <tr style=\"text-align: right;\">\n",
       "      <th></th>\n",
       "      <th>category</th>\n",
       "      <th>rank</th>\n",
       "      <th>query</th>\n",
       "    </tr>\n",
       "    <tr>\n",
       "      <th>year</th>\n",
       "      <th></th>\n",
       "      <th></th>\n",
       "      <th></th>\n",
       "    </tr>\n",
       "  </thead>\n",
       "  <tbody>\n",
       "    <tr>\n",
       "      <th>2013</th>\n",
       "      <td>Penelusuran</td>\n",
       "      <td>1</td>\n",
       "      <td>Paul Walker</td>\n",
       "    </tr>\n",
       "    <tr>\n",
       "      <th>2013</th>\n",
       "      <td>Tokoh</td>\n",
       "      <td>1</td>\n",
       "      <td>Paul Walker</td>\n",
       "    </tr>\n",
       "  </tbody>\n",
       "</table>\n",
       "</div>"
      ],
      "text/plain": [
       "         category  rank        query\n",
       "year                                \n",
       "2013  Penelusuran     1  Paul Walker\n",
       "2013        Tokoh     1  Paul Walker"
      ]
     },
     "execution_count": 111,
     "metadata": {},
     "output_type": "execute_result"
    }
   ],
   "source": [
    "year2013 = indonesia[indonesia['year']==2013].set_index('year')\n",
    "year2013 = year2013[year2013['rank']==1]\n",
    "year2013\n"
   ]
  },
  {
   "cell_type": "markdown",
   "metadata": {},
   "source": [
    "#### Year 2014"
   ]
  },
  {
   "cell_type": "code",
   "execution_count": 112,
   "metadata": {
    "ExecuteTime": {
     "end_time": "2021-03-08T10:50:53.880921Z",
     "start_time": "2021-03-08T10:50:53.851999Z"
    }
   },
   "outputs": [
    {
     "data": {
      "text/html": [
       "<div>\n",
       "<style scoped>\n",
       "    .dataframe tbody tr th:only-of-type {\n",
       "        vertical-align: middle;\n",
       "    }\n",
       "\n",
       "    .dataframe tbody tr th {\n",
       "        vertical-align: top;\n",
       "    }\n",
       "\n",
       "    .dataframe thead th {\n",
       "        text-align: right;\n",
       "    }\n",
       "</style>\n",
       "<table border=\"1\" class=\"dataframe\">\n",
       "  <thead>\n",
       "    <tr style=\"text-align: right;\">\n",
       "      <th></th>\n",
       "      <th>category</th>\n",
       "      <th>rank</th>\n",
       "      <th>query</th>\n",
       "    </tr>\n",
       "    <tr>\n",
       "      <th>year</th>\n",
       "      <th></th>\n",
       "      <th></th>\n",
       "      <th></th>\n",
       "    </tr>\n",
       "  </thead>\n",
       "  <tbody>\n",
       "    <tr>\n",
       "      <th>2014</th>\n",
       "      <td>Penelusuran</td>\n",
       "      <td>1</td>\n",
       "      <td>Jokowi</td>\n",
       "    </tr>\n",
       "    <tr>\n",
       "      <th>2014</th>\n",
       "      <td>Tokoh Indonesia</td>\n",
       "      <td>1</td>\n",
       "      <td>Aliando Syarief</td>\n",
       "    </tr>\n",
       "    <tr>\n",
       "      <th>2014</th>\n",
       "      <td>Berita Nasional</td>\n",
       "      <td>1</td>\n",
       "      <td>Pilpres 2014</td>\n",
       "    </tr>\n",
       "    <tr>\n",
       "      <th>2014</th>\n",
       "      <td>Apa Itu...</td>\n",
       "      <td>1</td>\n",
       "      <td>ISIS</td>\n",
       "    </tr>\n",
       "    <tr>\n",
       "      <th>2014</th>\n",
       "      <td>Gadget</td>\n",
       "      <td>1</td>\n",
       "      <td>iPhone 6</td>\n",
       "    </tr>\n",
       "    <tr>\n",
       "      <th>2014</th>\n",
       "      <td>Lagu</td>\n",
       "      <td>1</td>\n",
       "      <td>Sakitnya Tuh Disini</td>\n",
       "    </tr>\n",
       "    <tr>\n",
       "      <th>2014</th>\n",
       "      <td>Otomotif</td>\n",
       "      <td>1</td>\n",
       "      <td>Honda Mobilio</td>\n",
       "    </tr>\n",
       "    <tr>\n",
       "      <th>2014</th>\n",
       "      <td>Resep Makanan</td>\n",
       "      <td>1</td>\n",
       "      <td>Nasi Goreng</td>\n",
       "    </tr>\n",
       "    <tr>\n",
       "      <th>2014</th>\n",
       "      <td>Acara Televisi</td>\n",
       "      <td>1</td>\n",
       "      <td>Mahabarata</td>\n",
       "    </tr>\n",
       "    <tr>\n",
       "      <th>2014</th>\n",
       "      <td>Pertandingan Piala Dunia</td>\n",
       "      <td>1</td>\n",
       "      <td>Jerman Vs Argentina</td>\n",
       "    </tr>\n",
       "    <tr>\n",
       "      <th>2014</th>\n",
       "      <td>Aplikasi Chat</td>\n",
       "      <td>1</td>\n",
       "      <td>BBM</td>\n",
       "    </tr>\n",
       "    <tr>\n",
       "      <th>2014</th>\n",
       "      <td>Penyanyi Korea</td>\n",
       "      <td>1</td>\n",
       "      <td>SNSD</td>\n",
       "    </tr>\n",
       "  </tbody>\n",
       "</table>\n",
       "</div>"
      ],
      "text/plain": [
       "                      category  rank                query\n",
       "year                                                     \n",
       "2014               Penelusuran     1               Jokowi\n",
       "2014           Tokoh Indonesia     1      Aliando Syarief\n",
       "2014           Berita Nasional     1         Pilpres 2014\n",
       "2014                Apa Itu...     1                 ISIS\n",
       "2014                    Gadget     1             iPhone 6\n",
       "2014                      Lagu     1  Sakitnya Tuh Disini\n",
       "2014                  Otomotif     1        Honda Mobilio\n",
       "2014             Resep Makanan     1          Nasi Goreng\n",
       "2014            Acara Televisi     1           Mahabarata\n",
       "2014  Pertandingan Piala Dunia     1  Jerman Vs Argentina\n",
       "2014             Aplikasi Chat     1                  BBM\n",
       "2014            Penyanyi Korea     1                 SNSD"
      ]
     },
     "execution_count": 112,
     "metadata": {},
     "output_type": "execute_result"
    }
   ],
   "source": [
    "year2014 = indonesia[indonesia['year']==2014].set_index('year')\n",
    "year2014 = year2014[year2014['rank']==1]\n",
    "year2014\n"
   ]
  },
  {
   "cell_type": "markdown",
   "metadata": {},
   "source": [
    "#### Year 2015"
   ]
  },
  {
   "cell_type": "code",
   "execution_count": 113,
   "metadata": {
    "ExecuteTime": {
     "end_time": "2021-03-08T10:50:53.896880Z",
     "start_time": "2021-03-08T10:50:53.882917Z"
    }
   },
   "outputs": [
    {
     "data": {
      "text/html": [
       "<div>\n",
       "<style scoped>\n",
       "    .dataframe tbody tr th:only-of-type {\n",
       "        vertical-align: middle;\n",
       "    }\n",
       "\n",
       "    .dataframe tbody tr th {\n",
       "        vertical-align: top;\n",
       "    }\n",
       "\n",
       "    .dataframe thead th {\n",
       "        text-align: right;\n",
       "    }\n",
       "</style>\n",
       "<table border=\"1\" class=\"dataframe\">\n",
       "  <thead>\n",
       "    <tr style=\"text-align: right;\">\n",
       "      <th></th>\n",
       "      <th>category</th>\n",
       "      <th>rank</th>\n",
       "      <th>query</th>\n",
       "    </tr>\n",
       "    <tr>\n",
       "      <th>year</th>\n",
       "      <th></th>\n",
       "      <th></th>\n",
       "      <th></th>\n",
       "    </tr>\n",
       "  </thead>\n",
       "  <tbody>\n",
       "    <tr>\n",
       "      <th>2015</th>\n",
       "      <td>Penelusuran Terpopuler</td>\n",
       "      <td>1</td>\n",
       "      <td>Batu Akik</td>\n",
       "    </tr>\n",
       "    <tr>\n",
       "      <th>2015</th>\n",
       "      <td>Peristiwa Nasional</td>\n",
       "      <td>1</td>\n",
       "      <td>Pembekuan PSSI</td>\n",
       "    </tr>\n",
       "    <tr>\n",
       "      <th>2015</th>\n",
       "      <td>Peristiwa Internasional</td>\n",
       "      <td>1</td>\n",
       "      <td>Tragedi Mina</td>\n",
       "    </tr>\n",
       "    <tr>\n",
       "      <th>2015</th>\n",
       "      <td>Tokoh</td>\n",
       "      <td>1</td>\n",
       "      <td>Valentino Rossi</td>\n",
       "    </tr>\n",
       "    <tr>\n",
       "      <th>2015</th>\n",
       "      <td>Apa Itu...</td>\n",
       "      <td>1</td>\n",
       "      <td>Baper</td>\n",
       "    </tr>\n",
       "    <tr>\n",
       "      <th>2015</th>\n",
       "      <td>Bagaimana Cara...</td>\n",
       "      <td>1</td>\n",
       "      <td>Bentuk Perut Six Pack Tanpa ke Gym</td>\n",
       "    </tr>\n",
       "    <tr>\n",
       "      <th>2015</th>\n",
       "      <td>Film Indonesia 2015</td>\n",
       "      <td>1</td>\n",
       "      <td>Filosofi Kopi</td>\n",
       "    </tr>\n",
       "    <tr>\n",
       "      <th>2015</th>\n",
       "      <td>Gadget</td>\n",
       "      <td>1</td>\n",
       "      <td>Samsung Galaxy A</td>\n",
       "    </tr>\n",
       "    <tr>\n",
       "      <th>2015</th>\n",
       "      <td>Game</td>\n",
       "      <td>1</td>\n",
       "      <td>Point Blank Garena</td>\n",
       "    </tr>\n",
       "    <tr>\n",
       "      <th>2015</th>\n",
       "      <td>Meme</td>\n",
       "      <td>1</td>\n",
       "      <td>Meme Haji Lulung</td>\n",
       "    </tr>\n",
       "    <tr>\n",
       "      <th>2015</th>\n",
       "      <td>Mode &amp; Kecantikan</td>\n",
       "      <td>1</td>\n",
       "      <td>Celana Jogger</td>\n",
       "    </tr>\n",
       "    <tr>\n",
       "      <th>2015</th>\n",
       "      <td>Resep</td>\n",
       "      <td>1</td>\n",
       "      <td>Kue Cubit</td>\n",
       "    </tr>\n",
       "    <tr>\n",
       "      <th>2015</th>\n",
       "      <td>Selebriti</td>\n",
       "      <td>1</td>\n",
       "      <td>Cita Citata</td>\n",
       "    </tr>\n",
       "  </tbody>\n",
       "</table>\n",
       "</div>"
      ],
      "text/plain": [
       "                     category  rank                               query\n",
       "year                                                                   \n",
       "2015   Penelusuran Terpopuler     1                           Batu Akik\n",
       "2015       Peristiwa Nasional     1                      Pembekuan PSSI\n",
       "2015  Peristiwa Internasional     1                        Tragedi Mina\n",
       "2015                    Tokoh     1                     Valentino Rossi\n",
       "2015               Apa Itu...     1                               Baper\n",
       "2015        Bagaimana Cara...     1  Bentuk Perut Six Pack Tanpa ke Gym\n",
       "2015      Film Indonesia 2015     1                       Filosofi Kopi\n",
       "2015                   Gadget     1                    Samsung Galaxy A\n",
       "2015                     Game     1                  Point Blank Garena\n",
       "2015                     Meme     1                    Meme Haji Lulung\n",
       "2015        Mode & Kecantikan     1                       Celana Jogger\n",
       "2015                    Resep     1                           Kue Cubit\n",
       "2015                Selebriti     1                         Cita Citata"
      ]
     },
     "execution_count": 113,
     "metadata": {},
     "output_type": "execute_result"
    }
   ],
   "source": [
    "year2015 = indonesia[indonesia['year']==2015].set_index('year')\n",
    "year2015 = year2015[year2015['rank']==1]\n",
    "year2015\n"
   ]
  },
  {
   "cell_type": "markdown",
   "metadata": {},
   "source": [
    "#### Year 2016"
   ]
  },
  {
   "cell_type": "code",
   "execution_count": 114,
   "metadata": {
    "ExecuteTime": {
     "end_time": "2021-03-08T10:50:53.928793Z",
     "start_time": "2021-03-08T10:50:53.898874Z"
    }
   },
   "outputs": [
    {
     "data": {
      "text/html": [
       "<div>\n",
       "<style scoped>\n",
       "    .dataframe tbody tr th:only-of-type {\n",
       "        vertical-align: middle;\n",
       "    }\n",
       "\n",
       "    .dataframe tbody tr th {\n",
       "        vertical-align: top;\n",
       "    }\n",
       "\n",
       "    .dataframe thead th {\n",
       "        text-align: right;\n",
       "    }\n",
       "</style>\n",
       "<table border=\"1\" class=\"dataframe\">\n",
       "  <thead>\n",
       "    <tr style=\"text-align: right;\">\n",
       "      <th></th>\n",
       "      <th>category</th>\n",
       "      <th>rank</th>\n",
       "      <th>query</th>\n",
       "    </tr>\n",
       "    <tr>\n",
       "      <th>year</th>\n",
       "      <th></th>\n",
       "      <th></th>\n",
       "      <th></th>\n",
       "    </tr>\n",
       "  </thead>\n",
       "  <tbody>\n",
       "    <tr>\n",
       "      <th>2016</th>\n",
       "      <td>Penelusuran Terpopuler</td>\n",
       "      <td>1</td>\n",
       "      <td>Pokémon GO</td>\n",
       "    </tr>\n",
       "    <tr>\n",
       "      <th>2016</th>\n",
       "      <td>Tokoh</td>\n",
       "      <td>1</td>\n",
       "      <td>Ahok</td>\n",
       "    </tr>\n",
       "    <tr>\n",
       "      <th>2016</th>\n",
       "      <td>Peristiwa Nasional</td>\n",
       "      <td>1</td>\n",
       "      <td>Bom Sarinah</td>\n",
       "    </tr>\n",
       "    <tr>\n",
       "      <th>2016</th>\n",
       "      <td>Peristiwa Internasional</td>\n",
       "      <td>1</td>\n",
       "      <td>Panama Papers</td>\n",
       "    </tr>\n",
       "    <tr>\n",
       "      <th>2016</th>\n",
       "      <td>Selebriti</td>\n",
       "      <td>1</td>\n",
       "      <td>Saipul Jamil</td>\n",
       "    </tr>\n",
       "    <tr>\n",
       "      <th>2016</th>\n",
       "      <td>Atlet</td>\n",
       "      <td>1</td>\n",
       "      <td>Liliyana Natsir</td>\n",
       "    </tr>\n",
       "    <tr>\n",
       "      <th>2016</th>\n",
       "      <td>Peristiwa Olahraga</td>\n",
       "      <td>1</td>\n",
       "      <td>UEFA Euro 2016</td>\n",
       "    </tr>\n",
       "    <tr>\n",
       "      <th>2016</th>\n",
       "      <td>Kepergian Tokoh</td>\n",
       "      <td>1</td>\n",
       "      <td>Mike Mohede</td>\n",
       "    </tr>\n",
       "    <tr>\n",
       "      <th>2016</th>\n",
       "      <td>Lagu</td>\n",
       "      <td>1</td>\n",
       "      <td>Dia - Anji</td>\n",
       "    </tr>\n",
       "    <tr>\n",
       "      <th>2016</th>\n",
       "      <td>Film</td>\n",
       "      <td>1</td>\n",
       "      <td>The Conjuring 2</td>\n",
       "    </tr>\n",
       "    <tr>\n",
       "      <th>2016</th>\n",
       "      <td>Meme</td>\n",
       "      <td>1</td>\n",
       "      <td>Meme Valak</td>\n",
       "    </tr>\n",
       "    <tr>\n",
       "      <th>2016</th>\n",
       "      <td>Bagaimana Cara</td>\n",
       "      <td>1</td>\n",
       "      <td>Cara Shalat Gerhana</td>\n",
       "    </tr>\n",
       "    <tr>\n",
       "      <th>2016</th>\n",
       "      <td>Resep</td>\n",
       "      <td>1</td>\n",
       "      <td>Cake Tape</td>\n",
       "    </tr>\n",
       "    <tr>\n",
       "      <th>2016</th>\n",
       "      <td>Dekat Sini</td>\n",
       "      <td>1</td>\n",
       "      <td>Salon Dekat Sini</td>\n",
       "    </tr>\n",
       "    <tr>\n",
       "      <th>2016</th>\n",
       "      <td>Teknologi (Gim, Aplikasi, Gawai)</td>\n",
       "      <td>1</td>\n",
       "      <td>Samsung Z2</td>\n",
       "    </tr>\n",
       "    <tr>\n",
       "      <th>2016</th>\n",
       "      <td>Otomotif</td>\n",
       "      <td>1</td>\n",
       "      <td>Honda Brio</td>\n",
       "    </tr>\n",
       "  </tbody>\n",
       "</table>\n",
       "</div>"
      ],
      "text/plain": [
       "                              category  rank                query\n",
       "year                                                             \n",
       "2016            Penelusuran Terpopuler     1           Pokémon GO\n",
       "2016                             Tokoh     1                 Ahok\n",
       "2016                Peristiwa Nasional     1          Bom Sarinah\n",
       "2016           Peristiwa Internasional     1        Panama Papers\n",
       "2016                         Selebriti     1         Saipul Jamil\n",
       "2016                             Atlet     1      Liliyana Natsir\n",
       "2016                Peristiwa Olahraga     1       UEFA Euro 2016\n",
       "2016                   Kepergian Tokoh     1          Mike Mohede\n",
       "2016                              Lagu     1           Dia - Anji\n",
       "2016                              Film     1      The Conjuring 2\n",
       "2016                              Meme     1           Meme Valak\n",
       "2016                    Bagaimana Cara     1  Cara Shalat Gerhana\n",
       "2016                             Resep     1            Cake Tape\n",
       "2016                        Dekat Sini     1     Salon Dekat Sini\n",
       "2016  Teknologi (Gim, Aplikasi, Gawai)     1           Samsung Z2\n",
       "2016                          Otomotif     1           Honda Brio"
      ]
     },
     "execution_count": 114,
     "metadata": {},
     "output_type": "execute_result"
    }
   ],
   "source": [
    "year2016 = indonesia[indonesia['year']==2016].set_index('year')\n",
    "year2016 = year2016[year2016['rank']==1]\n",
    "year2016\n"
   ]
  },
  {
   "cell_type": "markdown",
   "metadata": {},
   "source": [
    "#### Year 2017"
   ]
  },
  {
   "cell_type": "code",
   "execution_count": 115,
   "metadata": {
    "ExecuteTime": {
     "end_time": "2021-03-08T10:50:53.944751Z",
     "start_time": "2021-03-08T10:50:53.930788Z"
    }
   },
   "outputs": [
    {
     "data": {
      "text/html": [
       "<div>\n",
       "<style scoped>\n",
       "    .dataframe tbody tr th:only-of-type {\n",
       "        vertical-align: middle;\n",
       "    }\n",
       "\n",
       "    .dataframe tbody tr th {\n",
       "        vertical-align: top;\n",
       "    }\n",
       "\n",
       "    .dataframe thead th {\n",
       "        text-align: right;\n",
       "    }\n",
       "</style>\n",
       "<table border=\"1\" class=\"dataframe\">\n",
       "  <thead>\n",
       "    <tr style=\"text-align: right;\">\n",
       "      <th></th>\n",
       "      <th>category</th>\n",
       "      <th>rank</th>\n",
       "      <th>query</th>\n",
       "    </tr>\n",
       "    <tr>\n",
       "      <th>year</th>\n",
       "      <th></th>\n",
       "      <th></th>\n",
       "      <th></th>\n",
       "    </tr>\n",
       "  </thead>\n",
       "  <tbody>\n",
       "    <tr>\n",
       "      <th>2017</th>\n",
       "      <td>Penelusuran Terpopuler</td>\n",
       "      <td>1</td>\n",
       "      <td>Surat Cinta untuk Starla</td>\n",
       "    </tr>\n",
       "    <tr>\n",
       "      <th>2017</th>\n",
       "      <td>Tokoh</td>\n",
       "      <td>1</td>\n",
       "      <td>Habib Rizieq</td>\n",
       "    </tr>\n",
       "    <tr>\n",
       "      <th>2017</th>\n",
       "      <td>Peristiwa Nasional</td>\n",
       "      <td>1</td>\n",
       "      <td>Gunung Agung</td>\n",
       "    </tr>\n",
       "    <tr>\n",
       "      <th>2017</th>\n",
       "      <td>Peristiwa Internasional</td>\n",
       "      <td>1</td>\n",
       "      <td>Rohingya</td>\n",
       "    </tr>\n",
       "    <tr>\n",
       "      <th>2017</th>\n",
       "      <td>Selebriti</td>\n",
       "      <td>1</td>\n",
       "      <td>Nella Kharisma</td>\n",
       "    </tr>\n",
       "    <tr>\n",
       "      <th>2017</th>\n",
       "      <td>Lagu</td>\n",
       "      <td>1</td>\n",
       "      <td>Despacito - Luis Fonsi ft. Daddy Yankee</td>\n",
       "    </tr>\n",
       "    <tr>\n",
       "      <th>2017</th>\n",
       "      <td>Apa Itu...</td>\n",
       "      <td>1</td>\n",
       "      <td>Rubella</td>\n",
       "    </tr>\n",
       "    <tr>\n",
       "      <th>2017</th>\n",
       "      <td>Cara Menjadi..</td>\n",
       "      <td>1</td>\n",
       "      <td>Selebgram</td>\n",
       "    </tr>\n",
       "    <tr>\n",
       "      <th>2017</th>\n",
       "      <td>Resep</td>\n",
       "      <td>1</td>\n",
       "      <td>Minuman Mangga</td>\n",
       "    </tr>\n",
       "  </tbody>\n",
       "</table>\n",
       "</div>"
      ],
      "text/plain": [
       "                     category  rank                                    query\n",
       "year                                                                        \n",
       "2017   Penelusuran Terpopuler     1                 Surat Cinta untuk Starla\n",
       "2017                    Tokoh     1                             Habib Rizieq\n",
       "2017       Peristiwa Nasional     1                             Gunung Agung\n",
       "2017  Peristiwa Internasional     1                                 Rohingya\n",
       "2017                Selebriti     1                           Nella Kharisma\n",
       "2017                     Lagu     1  Despacito - Luis Fonsi ft. Daddy Yankee\n",
       "2017               Apa Itu...     1                                  Rubella\n",
       "2017           Cara Menjadi..     1                                Selebgram\n",
       "2017                    Resep     1                           Minuman Mangga"
      ]
     },
     "execution_count": 115,
     "metadata": {},
     "output_type": "execute_result"
    }
   ],
   "source": [
    "year2017 = indonesia[indonesia['year']==2017].set_index('year')\n",
    "year2017 = year2017[year2017['rank']==1]\n",
    "year2017\n"
   ]
  },
  {
   "cell_type": "markdown",
   "metadata": {
    "ExecuteTime": {
     "end_time": "2021-03-08T10:47:40.924178Z",
     "start_time": "2021-03-08T10:47:40.915136Z"
    }
   },
   "source": [
    "#### Year 2018"
   ]
  },
  {
   "cell_type": "code",
   "execution_count": 116,
   "metadata": {
    "ExecuteTime": {
     "end_time": "2021-03-08T10:50:53.959711Z",
     "start_time": "2021-03-08T10:50:53.945747Z"
    }
   },
   "outputs": [
    {
     "data": {
      "text/html": [
       "<div>\n",
       "<style scoped>\n",
       "    .dataframe tbody tr th:only-of-type {\n",
       "        vertical-align: middle;\n",
       "    }\n",
       "\n",
       "    .dataframe tbody tr th {\n",
       "        vertical-align: top;\n",
       "    }\n",
       "\n",
       "    .dataframe thead th {\n",
       "        text-align: right;\n",
       "    }\n",
       "</style>\n",
       "<table border=\"1\" class=\"dataframe\">\n",
       "  <thead>\n",
       "    <tr style=\"text-align: right;\">\n",
       "      <th></th>\n",
       "      <th>category</th>\n",
       "      <th>rank</th>\n",
       "      <th>query</th>\n",
       "    </tr>\n",
       "    <tr>\n",
       "      <th>year</th>\n",
       "      <th></th>\n",
       "      <th></th>\n",
       "      <th></th>\n",
       "    </tr>\n",
       "  </thead>\n",
       "  <tbody>\n",
       "    <tr>\n",
       "      <th>2018</th>\n",
       "      <td>Film</td>\n",
       "      <td>1</td>\n",
       "      <td>Dilan 1990</td>\n",
       "    </tr>\n",
       "    <tr>\n",
       "      <th>2018</th>\n",
       "      <td>Lagu</td>\n",
       "      <td>1</td>\n",
       "      <td>Karna Su Sayang</td>\n",
       "    </tr>\n",
       "    <tr>\n",
       "      <th>2018</th>\n",
       "      <td>Penelusuran Terpopuler</td>\n",
       "      <td>1</td>\n",
       "      <td>Piala Dunia Russia 2018</td>\n",
       "    </tr>\n",
       "    <tr>\n",
       "      <th>2018</th>\n",
       "      <td>Peristiwa Hiburan</td>\n",
       "      <td>1</td>\n",
       "      <td>Indonesian Idol</td>\n",
       "    </tr>\n",
       "    <tr>\n",
       "      <th>2018</th>\n",
       "      <td>Peristiwa Nasional</td>\n",
       "      <td>1</td>\n",
       "      <td>Bom Surabaya</td>\n",
       "    </tr>\n",
       "    <tr>\n",
       "      <th>2018</th>\n",
       "      <td>Selebriti</td>\n",
       "      <td>1</td>\n",
       "      <td>Nissa Sabyan</td>\n",
       "    </tr>\n",
       "  </tbody>\n",
       "</table>\n",
       "</div>"
      ],
      "text/plain": [
       "                    category  rank                    query\n",
       "year                                                       \n",
       "2018                    Film     1               Dilan 1990\n",
       "2018                    Lagu     1          Karna Su Sayang\n",
       "2018  Penelusuran Terpopuler     1  Piala Dunia Russia 2018\n",
       "2018       Peristiwa Hiburan     1          Indonesian Idol\n",
       "2018      Peristiwa Nasional     1             Bom Surabaya\n",
       "2018               Selebriti     1             Nissa Sabyan"
      ]
     },
     "execution_count": 116,
     "metadata": {},
     "output_type": "execute_result"
    }
   ],
   "source": [
    "year2018 = indonesia[indonesia['year']==2018].set_index('year')\n",
    "year2018 = year2018[year2018['rank']==1]\n",
    "year2018"
   ]
  },
  {
   "cell_type": "markdown",
   "metadata": {},
   "source": [
    "#### Year 2019"
   ]
  },
  {
   "cell_type": "code",
   "execution_count": 117,
   "metadata": {
    "ExecuteTime": {
     "end_time": "2021-03-08T10:50:53.974671Z",
     "start_time": "2021-03-08T10:50:53.961705Z"
    }
   },
   "outputs": [
    {
     "data": {
      "text/html": [
       "<div>\n",
       "<style scoped>\n",
       "    .dataframe tbody tr th:only-of-type {\n",
       "        vertical-align: middle;\n",
       "    }\n",
       "\n",
       "    .dataframe tbody tr th {\n",
       "        vertical-align: top;\n",
       "    }\n",
       "\n",
       "    .dataframe thead th {\n",
       "        text-align: right;\n",
       "    }\n",
       "</style>\n",
       "<table border=\"1\" class=\"dataframe\">\n",
       "  <thead>\n",
       "    <tr style=\"text-align: right;\">\n",
       "      <th></th>\n",
       "      <th>category</th>\n",
       "      <th>rank</th>\n",
       "      <th>query</th>\n",
       "    </tr>\n",
       "    <tr>\n",
       "      <th>year</th>\n",
       "      <th></th>\n",
       "      <th></th>\n",
       "      <th></th>\n",
       "    </tr>\n",
       "  </thead>\n",
       "  <tbody>\n",
       "    <tr>\n",
       "      <th>2019</th>\n",
       "      <td>Apa itu...</td>\n",
       "      <td>1</td>\n",
       "      <td>Bucin</td>\n",
       "    </tr>\n",
       "    <tr>\n",
       "      <th>2019</th>\n",
       "      <td>Bagaimana cara...</td>\n",
       "      <td>1</td>\n",
       "      <td>Hidup sehat</td>\n",
       "    </tr>\n",
       "    <tr>\n",
       "      <th>2019</th>\n",
       "      <td>Film</td>\n",
       "      <td>1</td>\n",
       "      <td>Joker</td>\n",
       "    </tr>\n",
       "    <tr>\n",
       "      <th>2019</th>\n",
       "      <td>Kepergian Tokoh</td>\n",
       "      <td>1</td>\n",
       "      <td>BJ Habibie</td>\n",
       "    </tr>\n",
       "    <tr>\n",
       "      <th>2019</th>\n",
       "      <td>Lagu</td>\n",
       "      <td>1</td>\n",
       "      <td>Kemarin - Seventeen</td>\n",
       "    </tr>\n",
       "    <tr>\n",
       "      <th>2019</th>\n",
       "      <td>Penelusuran Terpopuler</td>\n",
       "      <td>1</td>\n",
       "      <td>Cinta Luar Biasa</td>\n",
       "    </tr>\n",
       "    <tr>\n",
       "      <th>2019</th>\n",
       "      <td>Peristiwa Nasional</td>\n",
       "      <td>1</td>\n",
       "      <td>Audrey</td>\n",
       "    </tr>\n",
       "    <tr>\n",
       "      <th>2019</th>\n",
       "      <td>Resep</td>\n",
       "      <td>1</td>\n",
       "      <td>Pisang Nugget</td>\n",
       "    </tr>\n",
       "    <tr>\n",
       "      <th>2019</th>\n",
       "      <td>Tokoh</td>\n",
       "      <td>1</td>\n",
       "      <td>Nadiem Makarim</td>\n",
       "    </tr>\n",
       "  </tbody>\n",
       "</table>\n",
       "</div>"
      ],
      "text/plain": [
       "                    category  rank                query\n",
       "year                                                   \n",
       "2019              Apa itu...     1                Bucin\n",
       "2019       Bagaimana cara...     1          Hidup sehat\n",
       "2019                    Film     1                Joker\n",
       "2019         Kepergian Tokoh     1           BJ Habibie\n",
       "2019                    Lagu     1  Kemarin - Seventeen\n",
       "2019  Penelusuran Terpopuler     1     Cinta Luar Biasa\n",
       "2019      Peristiwa Nasional     1               Audrey\n",
       "2019                   Resep     1        Pisang Nugget\n",
       "2019                   Tokoh     1       Nadiem Makarim"
      ]
     },
     "execution_count": 117,
     "metadata": {},
     "output_type": "execute_result"
    }
   ],
   "source": [
    "year2019 = indonesia[indonesia['year']==2019].set_index('year')\n",
    "year2019 = year2019[year2019['rank']==1]\n",
    "year2019"
   ]
  },
  {
   "cell_type": "markdown",
   "metadata": {},
   "source": [
    "#### Year 2020"
   ]
  },
  {
   "cell_type": "code",
   "execution_count": 118,
   "metadata": {
    "ExecuteTime": {
     "end_time": "2021-03-08T10:50:53.990628Z",
     "start_time": "2021-03-08T10:50:53.975668Z"
    }
   },
   "outputs": [
    {
     "data": {
      "text/html": [
       "<div>\n",
       "<style scoped>\n",
       "    .dataframe tbody tr th:only-of-type {\n",
       "        vertical-align: middle;\n",
       "    }\n",
       "\n",
       "    .dataframe tbody tr th {\n",
       "        vertical-align: top;\n",
       "    }\n",
       "\n",
       "    .dataframe thead th {\n",
       "        text-align: right;\n",
       "    }\n",
       "</style>\n",
       "<table border=\"1\" class=\"dataframe\">\n",
       "  <thead>\n",
       "    <tr style=\"text-align: right;\">\n",
       "      <th></th>\n",
       "      <th>category</th>\n",
       "      <th>rank</th>\n",
       "      <th>query</th>\n",
       "    </tr>\n",
       "    <tr>\n",
       "      <th>year</th>\n",
       "      <th></th>\n",
       "      <th></th>\n",
       "      <th></th>\n",
       "    </tr>\n",
       "  </thead>\n",
       "  <tbody>\n",
       "    <tr>\n",
       "      <th>2020</th>\n",
       "      <td>Apa itu...</td>\n",
       "      <td>1</td>\n",
       "      <td>Ghosting</td>\n",
       "    </tr>\n",
       "    <tr>\n",
       "      <th>2020</th>\n",
       "      <td>Bagaimana cara...</td>\n",
       "      <td>1</td>\n",
       "      <td>Cara Daftar UMKM</td>\n",
       "    </tr>\n",
       "    <tr>\n",
       "      <th>2020</th>\n",
       "      <td>Berita</td>\n",
       "      <td>1</td>\n",
       "      <td>Kartu Pra Kerja</td>\n",
       "    </tr>\n",
       "    <tr>\n",
       "      <th>2020</th>\n",
       "      <td>Film / TV Series</td>\n",
       "      <td>1</td>\n",
       "      <td>Tilik</td>\n",
       "    </tr>\n",
       "    <tr>\n",
       "      <th>2020</th>\n",
       "      <td>Kepergian Tokoh</td>\n",
       "      <td>1</td>\n",
       "      <td>Glenn Fredly</td>\n",
       "    </tr>\n",
       "    <tr>\n",
       "      <th>2020</th>\n",
       "      <td>Lirik Lagu</td>\n",
       "      <td>1</td>\n",
       "      <td>Lathi - Weird Genius - ft. Sara Fajira</td>\n",
       "    </tr>\n",
       "    <tr>\n",
       "      <th>2020</th>\n",
       "      <td>Penelusuran Terpopuler</td>\n",
       "      <td>1</td>\n",
       "      <td>Virus Corona</td>\n",
       "    </tr>\n",
       "    <tr>\n",
       "      <th>2020</th>\n",
       "      <td>Resep</td>\n",
       "      <td>1</td>\n",
       "      <td>Donat</td>\n",
       "    </tr>\n",
       "    <tr>\n",
       "      <th>2020</th>\n",
       "      <td>Siapa...</td>\n",
       "      <td>1</td>\n",
       "      <td>Bintang Emon</td>\n",
       "    </tr>\n",
       "  </tbody>\n",
       "</table>\n",
       "</div>"
      ],
      "text/plain": [
       "                    category  rank                                   query\n",
       "year                                                                      \n",
       "2020              Apa itu...     1                                Ghosting\n",
       "2020       Bagaimana cara...     1                        Cara Daftar UMKM\n",
       "2020                  Berita     1                         Kartu Pra Kerja\n",
       "2020        Film / TV Series     1                                   Tilik\n",
       "2020         Kepergian Tokoh     1                            Glenn Fredly\n",
       "2020              Lirik Lagu     1  Lathi - Weird Genius - ft. Sara Fajira\n",
       "2020  Penelusuran Terpopuler     1                            Virus Corona\n",
       "2020                   Resep     1                                   Donat\n",
       "2020                Siapa...     1                            Bintang Emon"
      ]
     },
     "execution_count": 118,
     "metadata": {},
     "output_type": "execute_result"
    }
   ],
   "source": [
    "year2020 = indonesia[indonesia['year']==2020].set_index('year')\n",
    "year2020 = year2020[year2020['rank']==1]\n",
    "year2020"
   ]
  }
 ],
 "metadata": {
  "kernelspec": {
   "display_name": "data-analytics",
   "language": "python",
   "name": "data-analytics"
  },
  "language_info": {
   "codemirror_mode": {
    "name": "ipython",
    "version": 3
   },
   "file_extension": ".py",
   "mimetype": "text/x-python",
   "name": "python",
   "nbconvert_exporter": "python",
   "pygments_lexer": "ipython3",
   "version": "3.8.5"
  },
  "toc": {
   "base_numbering": 1,
   "nav_menu": {},
   "number_sections": true,
   "sideBar": true,
   "skip_h1_title": false,
   "title_cell": "Table of Contents",
   "title_sidebar": "Contents",
   "toc_cell": false,
   "toc_position": {},
   "toc_section_display": true,
   "toc_window_display": false
  }
 },
 "nbformat": 4,
 "nbformat_minor": 4
}
